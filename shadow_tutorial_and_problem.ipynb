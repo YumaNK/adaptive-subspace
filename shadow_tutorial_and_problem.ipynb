{
 "cells": [
  {
   "cell_type": "code",
   "execution_count": 1,
   "metadata": {},
   "outputs": [
    {
     "data": {
      "text/html": [
       "<style>\n",
       "    div#notebook-container    { width: 80%; }\n",
       "    div#menubar-container     { width: 65%; }\n",
       "    div#maintoolbar-container { width: 99%; }\n",
       "</style>\n"
      ],
      "text/plain": [
       "<IPython.core.display.HTML object>"
      ]
     },
     "metadata": {},
     "output_type": "display_data"
    }
   ],
   "source": [
    "%%HTML\n",
    "<style>\n",
    "    div#notebook-container    { width: 80%; }\n",
    "    div#menubar-container     { width: 65%; }\n",
    "    div#maintoolbar-container { width: 99%; }\n",
    "</style>"
   ]
  },
  {
   "cell_type": "code",
   "execution_count": 2,
   "metadata": {},
   "outputs": [],
   "source": [
    "%load_ext autoreload"
   ]
  },
  {
   "cell_type": "markdown",
   "metadata": {},
   "source": [
    "## 量子状態と期待値の測定"
   ]
  },
  {
   "cell_type": "code",
   "execution_count": 3,
   "metadata": {},
   "outputs": [],
   "source": [
    "import matplotlib.pyplot as plt\n",
    "%matplotlib inline\n",
    "import numpy as np\n",
    "\n",
    "# 必要なライブラリ その1: qulacs\n",
    "# 適宜pip installしてください\n",
    "from qulacs import QuantumState, QuantumCircuit\n",
    "from qulacs import Observable\n",
    "from qulacs.observable import create_observable_from_openfermion_text\n",
    "\n",
    "# 必要なライブラリ その2: openfermion\n",
    "from openfermion import QubitOperator"
   ]
  },
  {
   "cell_type": "code",
   "execution_count": 4,
   "metadata": {},
   "outputs": [],
   "source": [
    "n_qubit = 3 # number of qubits\n",
    "nsamp_per_axis = 1 # sample per measurement axis\n",
    "Nsamp_tot = 10000 # total number of measurements\n",
    "\n",
    "# prepare random quantum state\n",
    "psi = QuantumState(n_qubit)\n",
    "psi.set_Haar_random_state(seed = 123)"
   ]
  },
  {
   "cell_type": "code",
   "execution_count": 5,
   "metadata": {},
   "outputs": [
    {
     "name": "stdout",
     "output_type": "stream",
     "text": [
      " *** Quantum State ***\n",
      " * Qubit Count : 3\n",
      " * Dimension   : 8\n",
      " * State vector : \n",
      "   (0.057055,0.315604)\n",
      " (-0.0520797,0.389076)\n",
      "(0.0417348,-0.0369918)\n",
      " (-0.0452564,0.453675)\n",
      " (0.120369,-0.0283307)\n",
      "  (-0.50341,-0.411403)\n",
      " (-0.149604,-0.103599)\n",
      "(-0.230856,-0.0877067)\n",
      "\n",
      "[ 0.057055  +0.31560426j -0.0520797 +0.38907646j  0.0417348 -0.03699179j\n",
      " -0.04525635+0.45367519j  0.12036944-0.02833065j -0.50341032-0.41140299j\n",
      " -0.14960351-0.10359856j -0.23085551-0.08770668j]\n"
     ]
    }
   ],
   "source": [
    "# 量子状態  = 2^n_qubit 次元の複素ベクトル\n",
    "print(psi)\n",
    "\n",
    "# numpy 形式でexportもできる\n",
    "print(psi.get_vector())"
   ]
  },
  {
   "cell_type": "code",
   "execution_count": 6,
   "metadata": {},
   "outputs": [
    {
     "data": {
      "text/plain": [
       "0.05937732497116038"
      ]
     },
     "execution_count": 6,
     "metadata": {},
     "output_type": "execute_result"
    }
   ],
   "source": [
    "# 演算子を定義する。\n",
    "operator = QubitOperator(\"X0 Z1 Y2\")\n",
    "op_ql = create_observable_from_openfermion_text(str(operator))\n",
    "\n",
    "# 量子状態 psiにおける 期待値 <psi | op | psi>\n",
    "op_ql.get_expectation_value(psi)"
   ]
  },
  {
   "cell_type": "code",
   "execution_count": 7,
   "metadata": {},
   "outputs": [
    {
     "data": {
      "text/plain": [
       "[0.05937732497116038, 0.3781249240449189, -0.7509136629735933]"
      ]
     },
     "execution_count": 7,
     "metadata": {},
     "output_type": "execute_result"
    }
   ],
   "source": [
    "# 複数の演算子を定義\n",
    "operators = [QubitOperator(\"X0 Z1 Y2\"), QubitOperator(\"Z0 Y1 Y2\"), QubitOperator(\"Z0 Y2\")]\n",
    "ops_ql = [create_observable_from_openfermion_text(str(_op)) for _op in operators]\n",
    "\n",
    "# 複数の演算子に関する期待値計算\n",
    "[_op_ql.get_expectation_value(psi) for _op_ql in ops_ql]"
   ]
  },
  {
   "cell_type": "markdown",
   "metadata": {},
   "source": [
    "実際の量子デバイスにおいても、以下の順序に従って期待値が測定されていく。\n",
    "1. 量子状態を準備する\n",
    "2. 測定したい演算子に対応して「測定軸」を決める\n",
    "3. 測定軸に対応するユニタリゲートをかけて射影測定\n",
    "\n",
    "一方で、測定したい演算子が複数ある場合、可換な演算子を同時に測定することができる。\n",
    "例えば、上の例のように\n",
    "\\begin{eqnarray}\n",
    "O_1 &=& X_0 Z_1 Y_2,\\\\\n",
    "O_2 &=& Z_0 Y_1 Y_2, \\\\\n",
    "O_3 &=& Z_0 Y_2\n",
    "\\end{eqnarray}\n",
    "のように定義したとき、$O_2$と$O_3$の違いは1番目の$Y_1$の有無だけだから、同時測定が可能である。\n",
    "実機の負担を軽減するには、同時測定が可能であるような演算子を、しっかり同時に測ってやることが必要となる。\n",
    "そのようなプロトコルを与えるのが、Classical shadowを用いた測定スキームである。"
   ]
  },
  {
   "cell_type": "markdown",
   "metadata": {},
   "source": [
    "## Classical shadow tomography\n",
    "\n",
    "Classical shadowの最大の利点は、「与えられた物理量に対する測定」を行うのではなく、「ランダム化された測定結果を下に、任意の物理量の期待値が可能となる」点にある。\n",
    "具体的な手順を見ていこう。"
   ]
  },
  {
   "cell_type": "code",
   "execution_count": 8,
   "metadata": {},
   "outputs": [],
   "source": [
    "class LocalPauliShadowSampler_core(object):\n",
    "    def __init__(\n",
    "        self,\n",
    "        n_qubit:int,\n",
    "        state:QuantumState,\n",
    "        Nshadow_tot: int,\n",
    "        nshot_per_axis = 1,\n",
    "    ):\n",
    "        self.n_qubit = n_qubit\n",
    "        self.state = state\n",
    "        self.Ntot = Nshadow_tot\n",
    "        self.m = nshot_per_axis\n",
    "        \n",
    "    def set_state(self, state):\n",
    "        self.state = state\n",
    "\n",
    "    def set_random_seed(self, seed):\n",
    "        np.random.seed(seed)\n",
    "\n",
    "    def generate_random_measurement_axis(self):\n",
    "        \"\"\"\n",
    "        Creates a list of random measurement axis.\n",
    "        For 3-qubit system, this looks like, e.g.,\n",
    "          [1, 3, 2], \n",
    "        which tells you to measure in \n",
    "          [X, Z, Y]\n",
    "        basis.\n",
    "\n",
    "        return:\n",
    "            List[n_qubit]\n",
    "        \"\"\"\n",
    "        return list(np.random.randint(1, 4, size = self.n_qubit))  \n",
    "        \n",
    "    def _sample_digits(self, meas_axis, nshot_per_axis = 1):\n",
    "        \"\"\"\n",
    "            returns the measurement result at meas_axis.\n",
    "            attributes:\n",
    "                meas_axis: List of axes\n",
    "                nshot_per_axis: number of measurement per axis\n",
    "        \"\"\"\n",
    "        meas_state = QuantumState(self.n_qubit)\n",
    "        meas_state.load(self.state)\n",
    "\n",
    "        meas_circuit = QuantumCircuit(self.n_qubit)\n",
    "        \n",
    "        # それぞれのqubitに測定用のuntiaryを作用\n",
    "        for qindex in range(self.n_qubit):\n",
    "            _axis = meas_axis[qindex]\n",
    "            if _axis == 1:\n",
    "                # X軸測定のためのユニタリ\n",
    "                meas_circuit.add_H_gate(qindex)\n",
    "            elif _axis == 2:\n",
    "                # Y軸測定のためのユニタリ\n",
    "                meas_circuit.add_Sdag_gate(qindex)\n",
    "                meas_circuit.add_H_gate(qindex)\n",
    "\n",
    "        meas_circuit.update_quantum_state(meas_state)\n",
    "        \n",
    "        # サンプリングに対応するシミュレーション\n",
    "        digits = meas_state.sampling(count = nshot_per_axis)\n",
    "        return digits"
   ]
  },
  {
   "cell_type": "code",
   "execution_count": 9,
   "metadata": {},
   "outputs": [],
   "source": [
    "# This is my ShadowSampler implementation\n",
    "#from shadow_generator import LocalPauliShadowSampler\n",
    "\n",
    "Nshadow_tot = 10000 # 合計のランダム測定回数\n",
    "nshot_per_axis = 1 # 軸ごとの測定回数 (この値は通常1にとる)\n",
    "shadow_sampler = LocalPauliShadowSampler_core(n_qubit, psi, Nshadow_tot, nshot_per_axis)\n",
    "\n",
    "shadow_sampler.set_random_seed(seed = 1234)"
   ]
  },
  {
   "cell_type": "code",
   "execution_count": 10,
   "metadata": {},
   "outputs": [
    {
     "name": "stdout",
     "output_type": "stream",
     "text": [
      "meas_axes[:5] =  [[3, 2, 1], [1, 1, 2], [2, 2, 3], [3, 3, 1], [1, 3, 3]]\n"
     ]
    }
   ],
   "source": [
    "# 完全にランダムに、それぞれのqubitにおける測定軸を決定する\n",
    "# 例えば[3,2,1] → [Z, Y, X]軸で測定せよ、という意味になる\n",
    "meas_axes = [shadow_sampler.generate_random_measurement_axis() for _ in range(Nshadow_tot)]\n",
    "print(\"meas_axes[:5] = \", meas_axes[:5])"
   ]
  },
  {
   "cell_type": "code",
   "execution_count": 11,
   "metadata": {},
   "outputs": [
    {
     "name": "stdout",
     "output_type": "stream",
     "text": [
      "samples[:5] =  [[1 0 1]\n",
      " [0 1 1]\n",
      " [1 0 0]\n",
      " [1 1 1]\n",
      " [0 0 1]]\n"
     ]
    }
   ],
   "source": [
    "# それぞれの測定軸で測定を行い、その結果をbitarrayとして保存しておく\n",
    "sample_digits = [shadow_sampler._sample_digits(_meas_ax, nshot_per_axis = nshot_per_axis) for _meas_ax in meas_axes]\n",
    "sample_digits = sum(sample_digits, []) # 整形\n",
    "bitstring_array = [format(_samp,\"b\").zfill(shadow_sampler.n_qubit) for _samp in sample_digits]\n",
    "samples = np.array([[int(_b) for _b in _bitstring][::-1] for _bitstring in bitstring_array])\n",
    "print(\"samples[:5] = \", samples[:5])"
   ]
  },
  {
   "cell_type": "markdown",
   "metadata": {},
   "source": [
    "この時点では、具体的な物理量の期待値は何ももとまっていないことに注意しよう。\n",
    "ランダムな測定軸と、測定結果に対応するランダムなビット列があるだけである。\n",
    "\n",
    "これらを適切に組み合わせる (post-processing)と、物理量の期待値を推定することができる。"
   ]
  },
  {
   "cell_type": "code",
   "execution_count": 12,
   "metadata": {},
   "outputs": [],
   "source": [
    "from typing import List\n",
    "\n",
    "def _estimate_single_pauli_product(operator: QubitOperator, meas_axes: List[int], samples: List[int], K=None):\n",
    "    \"\"\"\n",
    "    attributes:\n",
    "        operator: QubitOperator\n",
    "        meas_axes: list of measurement axes\n",
    "        \n",
    "    \"\"\"\n",
    "    global n_qubit, Nshadow_tot\n",
    "    paulistring = as_paulistring(operator)\n",
    "\n",
    "    assert np.array(meas_axes).shape == np.array(samples).shape\n",
    "    pauli_ids = create_pauli_id_from_openfermion(operator, n_qubit)\n",
    "    pauli = np.array([pauli_ids]*Nshadow_tot)\n",
    "\n",
    "    # This is the core of estimator, which corresponds to Algotihm 1 of\n",
    "    # https://arxiv.org/abs/2006.15788\n",
    "    arr = (np.array(meas_axes) ==np.array(pauli)) * 3\n",
    "    arr = (-1) ** np.array(samples) * arr\n",
    "    arr += (np.array(pauli) == 0)\n",
    "    val_array =  np.prod(arr, axis = -1).copy()\n",
    "\n",
    "\n",
    "    if K is not None:\n",
    "        exp = median_of_means(val_array, K)\n",
    "    else:\n",
    "        exp = np.mean(val_array)        \n",
    "\n",
    "    return exp\n",
    "\n",
    "def as_paulistring(operator):\n",
    "    return \" \".join([action + str(site) for site, action in list(operator.terms.keys())[0]])\n",
    "\n",
    "def if_single_pauli_product(operator):\n",
    "    return len(str(operator).split(\"+\")) == 1        \n",
    "\n",
    "def create_pauli_id_from_openfermion(operator, n_qubit):\n",
    "    assert if_single_pauli_product(operator), \"input is not single product of pauli.\"\n",
    "\n",
    "    terms = list(operator.terms.keys())[0]\n",
    "    qidx_list = []\n",
    "    pauli_id_list = []\n",
    "    plist = [\"I\", \"X\", \"Y\", \"Z\"]\n",
    "    for _term in terms:\n",
    "        qidx_list.append(_term[0])\n",
    "        pauli_id_list.append(plist.index(_term[1]))    \n",
    "    \n",
    "    ret = [0]*n_qubit\n",
    "    for _qid, _pid in zip(qidx_list, pauli_id_list):\n",
    "        ret[_qid] = _pid\n",
    "    return ret    "
   ]
  },
  {
   "cell_type": "code",
   "execution_count": 13,
   "metadata": {},
   "outputs": [
    {
     "name": "stdout",
     "output_type": "stream",
     "text": [
      "0.3699\n",
      "0.0396\n",
      "0.252\n"
     ]
    }
   ],
   "source": [
    "# ランダムに決めた測定軸および測定結果を用いて、任意の物理量に関する推定ができる。\n",
    "# ここでは便宜上、Single Paulistringのみを受け取る関数を作る（一般の演算子を測定するには、単純に線形結合をとれば良い）。\n",
    "op1 = QubitOperator(\"Z0 Y1 X2\") \n",
    "op2 = QubitOperator(\"Z0 Y1\")\n",
    "op3 = QubitOperator(\"X0 Y2\")\n",
    "\n",
    "op1_est = _estimate_single_pauli_product(op1, meas_axes, samples)\n",
    "op2_est = _estimate_single_pauli_product(op2, meas_axes, samples)\n",
    "op3_est = _estimate_single_pauli_product(op3, meas_axes, samples)\n",
    "print(op1_est)\n",
    "print(op2_est)\n",
    "print(op3_est)"
   ]
  },
  {
   "cell_type": "code",
   "execution_count": 14,
   "metadata": {},
   "outputs": [
    {
     "name": "stdout",
     "output_type": "stream",
     "text": [
      "shadow : 0.36990, exact : 0.38130, error = 0.011399 \n",
      "shadow : 0.03960, exact : 0.04970, error = 0.010101 \n",
      "shadow : 0.25200, exact : 0.30082, error = 0.048816 \n"
     ]
    }
   ],
   "source": [
    "# 厳密な期待値と比べてみる。 Nshadow_sampに関して、その誤差は 1/sqrt{Nshadow_samp}でスケールする。\n",
    "op1_ql = create_observable_from_openfermion_text(str(op1))\n",
    "op2_ql = create_observable_from_openfermion_text(str(op2  + 1e-6 * QubitOperator(\"Z2\")))# qulacsの都合で、qubit数よりも添字が小さい演算子でget_expectation_valueするときはこれが必要)\n",
    "op3_ql = create_observable_from_openfermion_text(str(op3))\n",
    "\n",
    "op1_exp = op1_ql.get_expectation_value(psi)\n",
    "op2_exp = op2_ql.get_expectation_value(psi)\n",
    "op3_exp = op3_ql.get_expectation_value(psi)\n",
    "\n",
    "# いずれも誤差は 1/sqrt{Nshadow_samp}のオーダー\n",
    "print(f\"shadow : {op1_est:.5f}, exact : {op1_exp:.5f}, error = {np.abs(op1_exp - op1_est):5f} \")\n",
    "print(f\"shadow : {op2_est:.5f}, exact : {op2_exp:.5f}, error = {np.abs(op2_exp - op2_est):5f} \")\n",
    "print(f\"shadow : {op3_est:.5f}, exact : {op3_exp:.5f}, error = {np.abs(op3_exp - op3_est):5f} \")"
   ]
  },
  {
   "cell_type": "markdown",
   "metadata": {},
   "source": [
    "## 課題\n",
    "ここまでは、完全にランダムに決定された測定軸に対するClassical shadowを想定していた。\n",
    "一方で、測定したい物理量にある程度のあたりがついている場合には、測定軸に偏りを持たせた方が効率が良いという旨が [arXiv:2006.15788](https://arxiv.org/abs/2006.15788)で指摘されている。具体的には以下の擬コードに対応する（記号などは論文を読んでください）。\n",
    "ちなみに、上で実装されているのは Algorithm1に対応している。\n",
    "<img src=\"./Algorithm2_LBCS.png\">\n",
    "\n",
    "このAlgorithm2を実装したい。そこで、以下の手続きに従って `Sampler`と `Estimator`の両方を設計した上で、正しい物理量の計算を実行できることを確認せよ。\n",
    "1. $i$番目のqubitに対して、確率を[ 1/3, 1/3, 1/3]で測定軸を決めるのではなく、$\\beta_i = [\\beta_{i, X}, \\beta_{i, Y}, \\beta_{i, Z}]$に従って出力せよ。\\\\要するに、 `LocallyBiasedPauliShadowSampler_core.generate_random_measurement_axis`を正しく設計せよ。\n",
    "2. $\\beta_i$を不均等にする影響を `_estimate_single_pauli_product_biased`に反映させ、正しい期待値を計算せよ。要するに、Algorithm2における $f(P, Q, \\beta)$の関数系を反映させたestimatorを作成せよ。"
   ]
  },
  {
   "cell_type": "code",
   "execution_count": null,
   "metadata": {},
   "outputs": [],
   "source": [
    "# Shadow sampler\n",
    "\n",
    "class LocallyBiasedPauliShadowSampler_core(object):\n",
    "    def __init__(\n",
    "        self,\n",
    "        n_qubit:int,\n",
    "        state:QuantumState,\n",
    "        Nshadow_tot: int,\n",
    "        nshot_per_axis = 1,\n",
    "    ):\n",
    "        self.n_qubit = n_qubit\n",
    "        self.state = state\n",
    "        self.Ntot = Nshadow_tot\n",
    "        self.m = nshot_per_axis\n",
    "        \n",
    "    def set_state(self, state):\n",
    "        self.state = state\n",
    "\n",
    "    def set_random_seed(self, seed):\n",
    "        np.random.seed(seed)\n",
    "\n",
    "    def generate_random_measurement_axis(self, beta):\n",
    "        \"\"\"\n",
    "        attributes:\n",
    "            beta : [n_qubit, 3], array of probability distibution\n",
    "\n",
    "        return:\n",
    "            List[n_qubit]\n",
    "        \"\"\"\n",
    "        \n",
    "        ############################\n",
    "        # Generate measurement axes according to probability distribution beta.\n",
    "        # beta[i] is a 3-dimensiontal array corresponding to probability distribution of X, Y, Z axis\n",
    "        ############################\n",
    "        \n",
    "        return meas_axes\n",
    "        \n",
    "    def _sample_digits(self, meas_axis, nshot_per_axis = 1):\n",
    "        \"\"\"\n",
    "            returns the measurement result at meas_axis.\n",
    "            attributes:\n",
    "                meas_axis: List of axes\n",
    "                nshot_per_axis: number of measurement per axis\n",
    "        \"\"\"\n",
    "        meas_state = QuantumState(self.n_qubit)\n",
    "        meas_state.load(self.state)\n",
    "\n",
    "        meas_circuit = QuantumCircuit(self.n_qubit)\n",
    "        for qindex in range(self.n_qubit):\n",
    "            _axis = meas_axis[qindex]\n",
    "            if _axis == 1:\n",
    "                meas_circuit.add_H_gate(qindex)\n",
    "            elif _axis == 2:\n",
    "                meas_circuit.add_Sdag_gate(qindex)\n",
    "                meas_circuit.add_H_gate(qindex)\n",
    "\n",
    "        meas_circuit.update_quantum_state(meas_state)\n",
    "        digits = meas_state.sampling(count = nshot_per_axis)\n",
    "        return digits"
   ]
  },
  {
   "cell_type": "code",
   "execution_count": null,
   "metadata": {},
   "outputs": [],
   "source": [
    "# Estimator\n",
    "\n",
    "def _estimate_single_pauli_product_biased(operator: QubitOperator, meas_axes: List[int], samples: List[int], beta):\n",
    "    \"\"\"\n",
    "    attributes:\n",
    "        operator: QubitOperator\n",
    "        meas_axes: list of measurement axes\n",
    "        samples: list of measurement results\n",
    "    \"\"\"\n",
    "    \n",
    "    ############################\n",
    "    # estimate expectation value\n",
    "    ############################\n",
    "    \n",
    "    return exp"
   ]
  }
 ],
 "metadata": {
  "kernelspec": {
   "display_name": "GSE-test",
   "language": "python",
   "name": "gse-test"
  },
  "language_info": {
   "codemirror_mode": {
    "name": "ipython",
    "version": 3
   },
   "file_extension": ".py",
   "mimetype": "text/x-python",
   "name": "python",
   "nbconvert_exporter": "python",
   "pygments_lexer": "ipython3",
   "version": "3.7.3"
  }
 },
 "nbformat": 4,
 "nbformat_minor": 2
}
